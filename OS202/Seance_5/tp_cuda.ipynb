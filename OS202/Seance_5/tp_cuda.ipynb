{
  "nbformat": 4,
  "nbformat_minor": 0,
  "metadata": {
    "colab": {
      "name": "Untitled5.ipynb",
      "provenance": [],
      "include_colab_link": true
    },
    "kernelspec": {
      "name": "python3",
      "display_name": "Python 3"
    },
    "language_info": {
      "name": "python"
    },
    "accelerator": "GPU"
  },
  "cells": [
    {
      "cell_type": "markdown",
      "metadata": {
        "id": "view-in-github",
        "colab_type": "text"
      },
      "source": [
        "<a href=\"https://colab.research.google.com/github/nathanchandanson/Majeure-STIC/blob/master/OS202/Seance_5/tp_cuda.ipynb\" target=\"_parent\"><img src=\"https://colab.research.google.com/assets/colab-badge.svg\" alt=\"Open In Colab\"/></a>"
      ]
    },
    {
      "cell_type": "markdown",
      "metadata": {
        "id": "etdu6cUmeDmX"
      },
      "source": [
        "# Configurer votre colab pour le calcul sur GPU\n",
        "Dans le menu au dessus, choisir le sous-menu **Exécution** puis l'option **Modifier le type d'exécution**.\n",
        "\n",
        "Une fenêtre apparaît où vous pouvez choisir un accélérateur matériel. Choisissez un *GPU* puis *enregistrer* votre choix.\n",
        "\n",
        "Afin de vérifier que vous avez bien configuré votre session pour utiliser un GPU, exécuter le code ci-dessous (en passant la souris, une petite flèche pour l'exécuter apparaît).\n",
        "\n",
        "Si tout se passe bien, un tableau (en ascii) apparaît avec le type de carte (et son architecture) auquel vous avez accès. Si un message d'erreur apparaît, vérifiez dans **Modifier le type d'exécution** que l'accélérateur matériel est bien configuré pour un *GPU*"
      ]
    },
    {
      "cell_type": "code",
      "metadata": {
        "colab": {
          "base_uri": "https://localhost:8080/"
        },
        "id": "AisG7sW_bImi",
        "outputId": "55099afe-6d6c-40ac-cc1d-81338f57d8ee"
      },
      "source": [
        "!nvidia-smi"
      ],
      "execution_count": 1,
      "outputs": [
        {
          "output_type": "stream",
          "name": "stdout",
          "text": [
            "Tue Mar  4 10:16:54 2025       \n",
            "+-----------------------------------------------------------------------------------------+\n",
            "| NVIDIA-SMI 550.54.15              Driver Version: 550.54.15      CUDA Version: 12.4     |\n",
            "|-----------------------------------------+------------------------+----------------------+\n",
            "| GPU  Name                 Persistence-M | Bus-Id          Disp.A | Volatile Uncorr. ECC |\n",
            "| Fan  Temp   Perf          Pwr:Usage/Cap |           Memory-Usage | GPU-Util  Compute M. |\n",
            "|                                         |                        |               MIG M. |\n",
            "|=========================================+========================+======================|\n",
            "|   0  Tesla T4                       Off |   00000000:00:04.0 Off |                    0 |\n",
            "| N/A   74C    P8             11W /   70W |       0MiB /  15360MiB |      0%      Default |\n",
            "|                                         |                        |                  N/A |\n",
            "+-----------------------------------------+------------------------+----------------------+\n",
            "                                                                                         \n",
            "+-----------------------------------------------------------------------------------------+\n",
            "| Processes:                                                                              |\n",
            "|  GPU   GI   CI        PID   Type   Process name                              GPU Memory |\n",
            "|        ID   ID                                                               Usage      |\n",
            "|=========================================================================================|\n",
            "|  No running processes found                                                             |\n",
            "+-----------------------------------------------------------------------------------------+\n"
          ]
        }
      ]
    },
    {
      "cell_type": "markdown",
      "metadata": {
        "id": "lKT2rlVxgil3"
      },
      "source": [
        "# Installation de PyCuda\n",
        "\n",
        "Pour utiliser le GPU sous Python il faut soit installer **PyCuda** pour effectuer des calculs, soit **PyTorch** pour effectuer du machine learning accéléré par les GPUs.\n",
        "\n",
        "Dans ce TP, nous nous bornerons uniquement à effectuer des calculs sur GPU !\n",
        "\n",
        "Pour cela, il faut d'abord installer pyCuda et donc exécuter le code ci-dessous (toujours en appuyant sur la flèche pour exécuter le code, et attendez, cela prend un petit moment...)"
      ]
    },
    {
      "cell_type": "code",
      "metadata": {
        "colab": {
          "base_uri": "https://localhost:8080/"
        },
        "id": "juIs9Ostgkoc",
        "outputId": "3f47f17f-0d71-4845-9d34-562f34865c30"
      },
      "source": [
        "!pip install pycuda"
      ],
      "execution_count": 2,
      "outputs": [
        {
          "output_type": "stream",
          "name": "stdout",
          "text": [
            "Collecting pycuda\n",
            "  Downloading pycuda-2025.1.tar.gz (1.7 MB)\n",
            "\u001b[2K     \u001b[90m━━━━━━━━━━━━━━━━━━━━━━━━━━━━━━━━━━━━━━━━\u001b[0m \u001b[32m1.7/1.7 MB\u001b[0m \u001b[31m19.3 MB/s\u001b[0m eta \u001b[36m0:00:00\u001b[0m\n",
            "\u001b[?25h  Installing build dependencies ... \u001b[?25l\u001b[?25hdone\n",
            "  Getting requirements to build wheel ... \u001b[?25l\u001b[?25hdone\n",
            "  Preparing metadata (pyproject.toml) ... \u001b[?25l\u001b[?25hdone\n",
            "Collecting pytools>=2011.2 (from pycuda)\n",
            "  Downloading pytools-2025.1.1-py3-none-any.whl.metadata (3.0 kB)\n",
            "Requirement already satisfied: platformdirs>=2.2.0 in /usr/local/lib/python3.11/dist-packages (from pycuda) (4.3.6)\n",
            "Collecting mako (from pycuda)\n",
            "  Downloading Mako-1.3.9-py3-none-any.whl.metadata (2.9 kB)\n",
            "Requirement already satisfied: typing-extensions>=4.5 in /usr/local/lib/python3.11/dist-packages (from pytools>=2011.2->pycuda) (4.12.2)\n",
            "Requirement already satisfied: MarkupSafe>=0.9.2 in /usr/local/lib/python3.11/dist-packages (from mako->pycuda) (3.0.2)\n",
            "Downloading pytools-2025.1.1-py3-none-any.whl (92 kB)\n",
            "\u001b[2K   \u001b[90m━━━━━━━━━━━━━━━━━━━━━━━━━━━━━━━━━━━━━━━━\u001b[0m \u001b[32m92.8/92.8 kB\u001b[0m \u001b[31m8.3 MB/s\u001b[0m eta \u001b[36m0:00:00\u001b[0m\n",
            "\u001b[?25hDownloading Mako-1.3.9-py3-none-any.whl (78 kB)\n",
            "\u001b[2K   \u001b[90m━━━━━━━━━━━━━━━━━━━━━━━━━━━━━━━━━━━━━━━━\u001b[0m \u001b[32m78.5/78.5 kB\u001b[0m \u001b[31m6.6 MB/s\u001b[0m eta \u001b[36m0:00:00\u001b[0m\n",
            "\u001b[?25hBuilding wheels for collected packages: pycuda\n",
            "  Building wheel for pycuda (pyproject.toml) ... \u001b[?25l\u001b[?25hdone\n",
            "  Created wheel for pycuda: filename=pycuda-2025.1-cp311-cp311-linux_x86_64.whl size=660393 sha256=7d8b569f0babe7627a663ac4871e03e30d00490e2c0a0535acd0a74b4c85b105\n",
            "  Stored in directory: /root/.cache/pip/wheels/77/7e/6c/d2d1451ea6424cdc3d67b36c16fa7111eafdf2034bc3405666\n",
            "Successfully built pycuda\n",
            "Installing collected packages: pytools, mako, pycuda\n",
            "Successfully installed mako-1.3.9 pycuda-2025.1 pytools-2025.1.1\n"
          ]
        }
      ]
    },
    {
      "cell_type": "markdown",
      "metadata": {
        "id": "qudDlvJtlFvM"
      },
      "source": [
        "# Vérification du bon fonctionnement du module PyCuda\n",
        "\n",
        "Afin de vérifier le bon fonctionnement de l'installation, nous allons écrire un script Cuda qui servira en même temps d'exemple pour le TP d'aujourd'hui. Ce script sera scindé en plusieurs morceaux et commenté pour que vous compreniez chaque partie du code.\n",
        "\n",
        "Ce code sera très simple : on va créer une matrice 4x4 avec des données prises \"au hasard\" (mais avec une graine aléatoire fixée, donc...) , recopier ce tableau dans la mémoire de la carte graphique et demander à la carte graphique de doubler la valeur de chaque élément de la matrice puis de recopier dans la mémoire de l'ordinateur les valeurs calculées. On affiche ensuite la matrice initiale et la matrice transformée.\n",
        "\n",
        "Dans un premier temps, chargeons les modules python nécessaire à l'exécution d'un noyau Cuda (**Remarque** : l'importation de ces modules n'est nécessaire qu'une seule fois pour **TOUTE** la session. Il sera donc inutile de reimporter ces modules dans le reste du TD !) :"
      ]
    },
    {
      "cell_type": "code",
      "metadata": {
        "id": "oqWKO6k_mw45"
      },
      "source": [
        "import pycuda.driver as cuda\n",
        "import pycuda.autoinit\n",
        "from pycuda.compiler import SourceModule"
      ],
      "execution_count": 3,
      "outputs": []
    },
    {
      "cell_type": "markdown",
      "metadata": {
        "id": "aDlqPZFGm1mH"
      },
      "source": [
        "Créons à l'aide de numpy un tableau *a* dont les valeurs aléatoires sont issues d'une graine fixée :"
      ]
    },
    {
      "cell_type": "code",
      "metadata": {
        "id": "eHjGxA72nD5Q"
      },
      "source": [
        "import numpy\n",
        "numpy.random.seed(1729)\n",
        "a = numpy.random.randn(4,4) # Sous forme de matrice 4 x 4"
      ],
      "execution_count": 4,
      "outputs": []
    },
    {
      "cell_type": "markdown",
      "metadata": {
        "id": "PB_UhGnJnL0H"
      },
      "source": [
        "Puisque certaines cartes graphiques supportent mal le double précision, nous allons demander à Python que les éléments de *a* soient en simple précision :"
      ]
    },
    {
      "cell_type": "code",
      "metadata": {
        "id": "BN3tt27lnZYf",
        "colab": {
          "base_uri": "https://localhost:8080/"
        },
        "outputId": "f59c2986-5bab-4a13-bcd4-dbdaf7da3087"
      },
      "source": [
        "a = a.astype(numpy.float32)\n",
        "print(a.nbytes)"
      ],
      "execution_count": 5,
      "outputs": [
        {
          "output_type": "stream",
          "name": "stdout",
          "text": [
            "64\n"
          ]
        }
      ]
    },
    {
      "cell_type": "markdown",
      "metadata": {
        "id": "bFvuQK_wnccf"
      },
      "source": [
        "Nous allons ensuite allouer de la place mémoire sur la mémoire vive du GPU. Comme en C, la place mémoire est exprimée en *Octets* :"
      ]
    },
    {
      "cell_type": "code",
      "metadata": {
        "id": "5WXc0_Q8nqw3"
      },
      "source": [
        "a_gpu = cuda.mem_alloc(a.nbytes)"
      ],
      "execution_count": 6,
      "outputs": []
    },
    {
      "cell_type": "markdown",
      "metadata": {
        "id": "LqIHO5oYnugQ"
      },
      "source": [
        "Une fois la réservation sur le GPU de faite, on recopie les valeurs de *a* dans le tableau *a_gpu* que l'on vient de réserver (htod signifie host **to** device):"
      ]
    },
    {
      "cell_type": "code",
      "metadata": {
        "id": "JMiVGjKEoAJJ"
      },
      "source": [
        "cuda.memcpy_htod(a_gpu, a)"
      ],
      "execution_count": 7,
      "outputs": []
    },
    {
      "cell_type": "markdown",
      "metadata": {
        "id": "G2EIIhLwoDLY"
      },
      "source": [
        "Il faut ensuite écrire le noyau qui s'exécutera sur la carte graphique à l'aide du langage CUDA (qui est une extension du langage C).\n",
        "\n",
        "**Remarquez** dans le code qu'on s'assure que les indices donnés par les numéros de threads ne dépassent pas la dimension de la matrice !"
      ]
    },
    {
      "cell_type": "code",
      "metadata": {
        "id": "p_uaN7JNok9-"
      },
      "source": [
        "mod = SourceModule(\"\"\"\n",
        "__global__ void doublify( int dim_x, int dim_y, float *a )\n",
        "{\n",
        "  if ((threadIdx.x < dim_x) && (threadIdx.y < dim_y))\n",
        "  {\n",
        "    int idx = threadIdx.x + threadIdx.y * dim_x;\n",
        "    a[idx] *= 2;\n",
        "  }\n",
        "}\n",
        "\"\"\")"
      ],
      "execution_count": 8,
      "outputs": []
    },
    {
      "cell_type": "markdown",
      "metadata": {
        "id": "IqsGbd-LqAlF"
      },
      "source": [
        "Nous allons récupérer ensuite un \"handle\" sur le noyau cuda que l'on vient de créer (en invoquant le nom de la fonction) et l'invoquer sur la carte graphique en dimensionnant la grille de calcul à l'aide de *block=(4,4,1)* (et en l'adaptant aux dimensions de la matrice).\n",
        "\n",
        "Ici, nous n'avons pas besoin de configurer de grilles car la dimension de la matrice *a* est petite, mais comme la taille d'un bloc dans une direction est limitée à 256, pour des cas plus gros, il faudra également passer une grille en paramètre à l'aide de *grid=(x,y,z)* où *x,y* et *z* sont des valeurs entières positives et utiliser dans le noyau cuda les valeurs *x,y* et *z* de **blockIdx** et **blockDim**.\n",
        "\n",
        "**REMARQUE IMPORTANTE** : Le noyau cuda ne veut que des types C basiques en argument. Or un entier python est tout sauf un type basique du C. Donc pour passer un argument entier à un noyau cuda, il faut créer un entier 32 bits à l'aide de numpy.int32"
      ]
    },
    {
      "cell_type": "code",
      "metadata": {
        "id": "QW9-l0XaqSuH"
      },
      "source": [
        "func = mod.get_function(\"doublify\")\n",
        "dim = numpy.int32(4)\n",
        "func(dim, dim, a_gpu, block=(4,4,1))"
      ],
      "execution_count": 9,
      "outputs": []
    },
    {
      "cell_type": "markdown",
      "metadata": {
        "id": "tbE0Dg-7qRlt"
      },
      "source": [
        "Il ne reste plus qu'à récupérer les nouvelles valeurs de la matrice en transférant les données de la matrice contenue par le GPU dans un tableau numpy se trouvant dans la RAM de l'ordinateur (dtoh signifie device **to** host) :"
      ]
    },
    {
      "cell_type": "code",
      "metadata": {
        "id": "Dt77Pr7JqrPU"
      },
      "source": [
        "a_doubled = numpy.empty_like(a)\n",
        "cuda.memcpy_dtoh(a_doubled, a_gpu)"
      ],
      "execution_count": 10,
      "outputs": []
    },
    {
      "cell_type": "markdown",
      "metadata": {
        "id": "aCEHT9OMwLCl"
      },
      "source": [
        "Il ne reste plus qu'à afficher la matrice initiale puis la matrice obtenue par le calcul sur GPU :"
      ]
    },
    {
      "cell_type": "code",
      "metadata": {
        "colab": {
          "base_uri": "https://localhost:8080/"
        },
        "id": "s7-qzHVFwP9R",
        "outputId": "0d4dbad3-66f7-428a-c9fc-340b72c781fc"
      },
      "source": [
        "print(f\"a : {a}\")\n",
        "print(f\"a_gpu : {a_doubled}\")"
      ],
      "execution_count": 11,
      "outputs": [
        {
          "output_type": "stream",
          "name": "stdout",
          "text": [
            "a : [[-0.6873394  -0.82099473  1.6523609  -0.57529306]\n",
            " [ 1.0989678   0.92594606 -0.9934138  -0.8582211 ]\n",
            " [ 0.07488676  0.5293555   0.12095155 -0.22442362]\n",
            " [-1.5566785   0.05594088  0.16147153 -2.1346416 ]]\n",
            "a_gpu : [[-1.3746789  -1.6419895   3.3047218  -1.1505861 ]\n",
            " [ 2.1979356   1.8518921  -1.9868276  -1.7164422 ]\n",
            " [ 0.14977352  1.058711    0.2419031  -0.44884723]\n",
            " [-3.113357    0.11188176  0.32294306 -4.2692833 ]]\n"
          ]
        }
      ]
    },
    {
      "cell_type": "markdown",
      "metadata": {
        "id": "loEHbBbLwxwg"
      },
      "source": [
        "## Exercices de mises en bouche\n",
        "\n",
        "En vous inspirant du programme commenté ci-dessus, écrivez un code avec un noyau Cuda qui fait la somme de deux vecteurs de réels simples précisions et qui range le résultat dans un troisième vecteur.\n",
        "\n",
        "On s'exercera à utiliser des vecteurs de \"grandes\" dimensions (> 256) afin de s'entrainer à calculer des indices globaux dans le noyau cuda à l'aide de *threadIdx.x*, *blockIdx.x* et *dimBlock.x*.\n",
        "\n",
        "Ecrivez (ou copier coller) votre code dans la cellule ci-dessous"
      ]
    },
    {
      "cell_type": "code",
      "metadata": {
        "id": "MdP6BpWQyDyx",
        "colab": {
          "base_uri": "https://localhost:8080/"
        },
        "outputId": "9e821ddf-4d69-4795-c6f3-1031370e0e97"
      },
      "source": [
        "############# Création des vecteurs #############\n",
        "# Taille du vecteur\n",
        "size = numpy.int32(512)\n",
        "# Vecteur a\n",
        "numpy.random.seed(15436)\n",
        "a = numpy.random.randn(size) # Vecteur 1\n",
        "a = a.astype(numpy.float32)\n",
        "# Vecteur b\n",
        "numpy.random.seed(98841)\n",
        "b = numpy.random.randn(size) # Vecteur 2\n",
        "b = b.astype(numpy.float32)\n",
        "# Vecteur c = a + b\n",
        "c = numpy.empty(size)\n",
        "c = c.astype(numpy.float32)\n",
        "\n",
        "############# Mise en place des vecteurs sur la mémoire GPU #############\n",
        "# Allocation mémoire\n",
        "a_gpu = cuda.mem_alloc(a.nbytes)\n",
        "b_gpu = cuda.mem_alloc(b.nbytes)\n",
        "c_gpu = cuda.mem_alloc(c.nbytes)\n",
        "# Déplacement données\n",
        "cuda.memcpy_htod(a_gpu, a)\n",
        "cuda.memcpy_htod(b_gpu, b)\n",
        "\n",
        "############# Création de la fonction #############\n",
        "mod = SourceModule(\"\"\"\n",
        "__global__ void add_vec( int dim, float *a, float* b, float *c )\n",
        "{\n",
        "  int idx = threadIdx.x + blockIdx.x * blockDim.x;\n",
        "  if ((idx < dim))\n",
        "  {\n",
        "    c[idx] = a[idx] + b[idx];\n",
        "  }\n",
        "}\n",
        "\"\"\")\n",
        "\n",
        "############# Appel de la fonction #############\n",
        "func = mod.get_function(\"add_vec\")\n",
        "dimgrd = (int(size//256), 1, 1)\n",
        "func(size, a_gpu, b_gpu, c_gpu, grid=dimgrd, block=(256,1,1))\n",
        "\n",
        "############# Récupération du résultat #############\n",
        "cuda.memcpy_dtoh(c, c_gpu)"
      ],
      "execution_count": 12,
      "outputs": [
        {
          "output_type": "stream",
          "name": "stderr",
          "text": [
            "/usr/local/lib/python3.11/dist-packages/google/colab/_variable_inspector.py:27: UserWarning: device_allocation in out-of-thread context could not be cleaned up\n",
            "  globals().clear()\n"
          ]
        }
      ]
    },
    {
      "cell_type": "markdown",
      "metadata": {
        "id": "esWwXhGMy8vJ"
      },
      "source": [
        "Une fois le code mis au point, recopiez le ci-dessous et adaptez le pour additionner deux matrices carrées dans une troisième."
      ]
    },
    {
      "cell_type": "code",
      "metadata": {
        "id": "lMAqLHVmzJbG"
      },
      "source": [
        "############# Création des matrices #############\n",
        "# Taille du vecteur\n",
        "dim = numpy.int32(512)\n",
        "# Vecteur a\n",
        "numpy.random.seed(15436)\n",
        "a = numpy.random.randn(dim,dim) # Vecteur 1\n",
        "a = a.astype(numpy.float32)\n",
        "# Vecteur b\n",
        "numpy.random.seed(98841)\n",
        "b = numpy.random.randn(dim,dim) # Vecteur 2\n",
        "b = b.astype(numpy.float32)\n",
        "# Vecteur c = a + b\n",
        "c = numpy.empty_like(a)\n",
        "c = c.astype(numpy.float32)\n",
        "\n",
        "############# Mise en place des vecteurs sur la mémoire GPU #############\n",
        "# Allocation mémoire\n",
        "a_gpu = cuda.mem_alloc(a.nbytes)\n",
        "b_gpu = cuda.mem_alloc(b.nbytes)\n",
        "c_gpu = cuda.mem_alloc(c.nbytes)\n",
        "# Déplacement données\n",
        "cuda.memcpy_htod(a_gpu, a)\n",
        "cuda.memcpy_htod(b_gpu, b)\n",
        "\n",
        "############# Création de la fonction #############\n",
        "mod = SourceModule(\"\"\"\n",
        "__global__ void add_mat( int dim, float *a, float *b, float *c )\n",
        "{\n",
        "  int idx = threadIdx.x + blockIdx.x * blockDim.x;\n",
        "  int idy = threadIdx.y + blockIdx.y * blockDim.y;\n",
        "  int index = idx + idy * dim;\n",
        "  if ((idx < dim) && (idy < dim))\n",
        "  {\n",
        "    c[index] = a[index] + b[index];\n",
        "  }\n",
        "}\n",
        "\"\"\")\n",
        "\n",
        "############# Appel de la fonction #############\n",
        "func = mod.get_function(\"add_mat\")\n",
        "dimgrd = (int(dim//16), int(dim//16), 1)\n",
        "func(dim, a_gpu, b_gpu, c_gpu, grid=dimgrd, block=(16,16,1))\n",
        "\n",
        "############# Récupération du résultat #############\n",
        "cuda.memcpy_dtoh(c, c_gpu)"
      ],
      "execution_count": 17,
      "outputs": []
    },
    {
      "cell_type": "markdown",
      "metadata": {
        "id": "_67yypc0yL0g"
      },
      "source": [
        "# Exercice final\n",
        "\n",
        "Nous allons de nouveau nous intéresser à l'ensemble de Mandelbrot. La cellule ci-dessous contient un code permettant de calculer à l'aide de numpy un ensemble de mandelbrot (le code est simplifié par rapport aux codes sur CPU pour faciliter le TP même si il utilise la notation vectorielle de numpy (il faudra y faire attention pour code le noyau cuda !) : code repris de https://stackoverflow.com/questions/60467316/displaying-mandelbrot-set-in-python-using-matplotlib-pyplot-and-numpy).\n",
        "\n",
        "Transformez le de sorte que sur GPU, chaque thread calcule un pixel de l'image de destination."
      ]
    },
    {
      "cell_type": "code",
      "metadata": {
        "colab": {
          "base_uri": "https://localhost:8080/",
          "height": 734
        },
        "id": "YcAhzA4Gzb51",
        "outputId": "4eb15ae3-3d7b-4665-dfdf-d4f303ac0452"
      },
      "source": [
        "import pylab as plt\n",
        "import numpy as np\n",
        "# initial values\n",
        "loop = 100 # number of interations\n",
        "div = 1000 # divisions\n",
        "# all possible values of c\n",
        "c = np.linspace(-2,2,div)[:,np.newaxis] + 1j*np.linspace(-1.5,1.5,div)[np.newaxis,:]\n",
        "# array of ones of same dimensions as c\n",
        "ones = np.ones(np.shape(c), np.int32)\n",
        "# Array that will hold colors for plot, initial value set here will be\n",
        "# the color of the points in the mandelbrot set, i.e. where the series\n",
        "# converges.\n",
        "# For the code below to work, this initial value must at least be 'loop'.\n",
        "# Here it is loop + 5\n",
        "color = ones * loop + 5\n",
        "z = 0\n",
        "for n in range(0,loop):\n",
        "      z = z**2 + c\n",
        "      diverged = np.abs(z)>2\n",
        "      # Store value of n at which series was detected to diverge.\n",
        "      # The later the series is detected to diverge, the higher\n",
        "      # the 'color' value.\n",
        "      color[diverged] = np.minimum(color[diverged], ones[diverged]*n)\n",
        "\n",
        "plt.rcParams['figure.figsize'] = [12, 7.5]\n",
        "# contour plot with real and imaginary parts of c as axes\n",
        "# and colored according to 'color'\n",
        "plt.contourf(c.real, c.imag, color)\n",
        "plt.xlabel(\"Real($c$)\")\n",
        "plt.ylabel(\"Imag($c$)\")\n",
        "plt.xlim(-2,2)\n",
        "plt.ylim(-1.5,1.5)\n",
        "plt.savefig(\"plot.png\")\n",
        "plt.show()"
      ],
      "execution_count": 21,
      "outputs": [
        {
          "output_type": "stream",
          "name": "stderr",
          "text": [
            "<ipython-input-21-3388b3742860>:18: RuntimeWarning: overflow encountered in square\n",
            "  z = z**2 + c\n",
            "<ipython-input-21-3388b3742860>:18: RuntimeWarning: invalid value encountered in square\n",
            "  z = z**2 + c\n"
          ]
        },
        {
          "output_type": "display_data",
          "data": {
            "text/plain": [
              "<Figure size 1200x750 with 1 Axes>"
            ],
            "image/png": "[encoded data removed]"
          },
          "metadata": {}
        }
      ]
    },
    {
      "cell_type": "markdown",
      "source": [
        "## Version Parallélisée CUDA"
      ],
      "metadata": {
        "id": "037e283vsuoY"
      }
    },
    {
      "cell_type": "code",
      "source": [
        "import pylab as plt\n",
        "import numpy as np\n",
        "import pycuda.driver as cuda\n",
        "import pycuda.autoinit\n",
        "from pycuda.compiler import SourceModule\n",
        "\n",
        "############# Definition des données #############\n",
        "loop = 100 # number of interations\n",
        "div = np.int32(1000) # divisions\n",
        "# matrices c\n",
        "c_realPart = np.linspace(-2,2,div)[:,np.newaxis]  ############## PB : la j'ai qu'une ligne, il faut que j'ai une matrice avec div fois cette ligne\n",
        "c_imPart = np.linspace(-1.5,1.5,div)[np.newaxis,:]\n",
        "c_realPart, c_imPart = np.meshgrid (c_realPart, c_imPart)\n",
        "c_realPart = np.ascontiguousarray(c_realPart.astype(np.float32))\n",
        "c_imPart = np.ascontiguousarray(c_imPart.astype(np.float32))\n",
        "# Matrix color\n",
        "ones = np.ones((div,div), np.int32) # array of ones of same dimensions as c\n",
        "color = ones * loop + 5\n",
        "# Matrices z\n",
        "z_realPart = np.zeros_like(c_realPart)\n",
        "z_imPart = np.zeros_like(c_imPart)\n",
        "\n",
        "############# Allocation+recup GPU des données #############\n",
        "# Allocation mémoire GPU\n",
        "c_realPart_gpu = cuda.mem_alloc(c_realPart.nbytes)\n",
        "c_imPart_gpu = cuda.mem_alloc(c_imPart.nbytes)\n",
        "color_gpu = cuda.mem_alloc(color.nbytes)\n",
        "z_realPart_gpu = cuda.mem_alloc(z_realPart.nbytes)\n",
        "z_imPart_gpu = cuda.mem_alloc(z_imPart.nbytes)\n",
        "# Déplacement données\n",
        "cuda.memcpy_htod(c_realPart_gpu, c_realPart)\n",
        "cuda.memcpy_htod(c_imPart_gpu, c_imPart)\n",
        "cuda.memcpy_htod(color_gpu, color)\n",
        "cuda.memcpy_htod(z_realPart_gpu, z_realPart)\n",
        "cuda.memcpy_htod(z_imPart_gpu, z_imPart)\n",
        "\n",
        "############# Fonction de calcul de convergence #############\n",
        "mod = SourceModule(\"\"\"\n",
        "__global__ void calculate_image( int dim, int loop, float *c_realPart, float *c_imPart, float *z_realPart, float *z_imPart, int *color)\n",
        "{\n",
        "  int idx = threadIdx.x + blockIdx.x * blockDim.x;\n",
        "  int idy = threadIdx.y + blockIdx.y * blockDim.y;\n",
        "  int index = idx + idy * dim;\n",
        "  z_realPart[index] = 0.0f;\n",
        "  z_imPart[index] = 0.0f;\n",
        "  if ((idx < dim) && (idy < dim))\n",
        "  {\n",
        "    for(int n = 0; n<loop; n++)\n",
        "    {\n",
        "      // Calcul de la partie réelle et imaginaire\n",
        "      float temp = z_realPart[index];\n",
        "      z_realPart[index] = z_realPart[index]*z_realPart[index] - z_imPart[index]*z_imPart[index] + c_realPart[index];\n",
        "      z_imPart[index] = 2 * temp * z_imPart[index] + c_imPart[index];\n",
        "      // Calcul de la norme\n",
        "      float norme_squared = z_realPart[index]*z_realPart[index] + z_imPart[index]*z_imPart[index];\n",
        "      // Update color si divergent\n",
        "      if(norme_squared>4){\n",
        "        color[index] = min(color[index], n);\n",
        "      }\n",
        "    }\n",
        "  }\n",
        "}\n",
        "\"\"\")\n",
        "\n",
        "func = mod.get_function(\"calculate_image\")\n",
        "dimblk = (10, 10, 1)\n",
        "dimgrd = (int(div//10), int(div//10), 1)\n",
        "\n",
        "############# Appel de la fonction #############\n",
        "func(div, np.int32(loop), c_realPart_gpu, c_imPart_gpu, z_realPart_gpu, z_imPart_gpu, color_gpu, grid=dimgrd, block=dimblk)\n",
        "\n",
        "############# Récupération du résultat #############\n",
        "cuda.memcpy_dtoh(color, color_gpu)\n",
        "\n",
        "############# Affichage #############\n",
        "plt.rcParams['figure.figsize'] = [12, 7.5]\n",
        "# contour plot with real and imaginary parts of c as axes\n",
        "# and colored according to 'color'\n",
        "print(c_realPart.shape, c_imPart.shape, color.shape)\n",
        "plt.contourf(c_realPart, c_imPart, color)\n",
        "plt.xlabel(\"Real($c$)\")\n",
        "plt.ylabel(\"Imag($c$)\")\n",
        "plt.xlim(-2,2)\n",
        "plt.ylim(-1.5,1.5)\n",
        "plt.savefig(\"plot.png\")\n",
        "plt.show()"
      ],
      "metadata": {
        "colab": {
          "base_uri": "https://localhost:8080/",
          "height": 772
        },
        "id": "KlQgMhcPsx9S",
        "outputId": "32f48e75-3dfc-477d-fe6f-f81fc77a8ab1"
      },
      "execution_count": 31,
      "outputs": [
        {
          "output_type": "stream",
          "name": "stdout",
          "text": [
            "(1000, 1000) (1000, 1000) (1000, 1000)\n"
          ]
        },
        {
          "output_type": "stream",
          "name": "stderr",
          "text": [
            "/usr/local/lib/python3.11/dist-packages/google/colab/_variable_inspector.py:27: UserWarning: device_allocation in out-of-thread context could not be cleaned up\n",
            "  globals().clear()\n",
            "/usr/local/lib/python3.11/dist-packages/google/colab/_variable_inspector.py:27: UserWarning: module in out-of-thread context could not be cleaned up\n",
            "  globals().clear()\n"
          ]
        },
        {
          "output_type": "display_data",
          "data": {
            "text/plain": [
              "<Figure size 1200x750 with 1 Axes>"
            ],
            "image/png": "[encoded data removed]"
          },
          "metadata": {}
        }
      ]
    }
  ]
}